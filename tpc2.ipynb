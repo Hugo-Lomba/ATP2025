{
 "cells": [
  {
   "cell_type": "code",
   "execution_count": 2,
   "id": "1f42de6a",
   "metadata": {},
   "outputs": [
    {
     "name": "stdout",
     "output_type": "stream",
     "text": [
      "Olá! Bem vindo ao jogo dos fósforos!\n",
      "Antes de começar o jogo precisas de saber as regras!\n",
      "Regras do Jogo:\n",
      "Inicialmente existem 21 fósforos. Cada um deve retirar 1, 2, 3 ou 4 fósforos por jogada. Quem retirar o último fósforo perde o jogo!\n",
      "Eu retirei 2 foforos! Sobram 19 fósforos!\n",
      "Sobram 17 fósforos.\n",
      "Eu retirei 1 foforos! Sobram 16 fósforos!\n",
      "Não podes tirar esse valor. Tem de ser entre 1 e 4, sem ultrapassar o total restante.\n",
      "Sobram 12 fósforos.\n",
      "Eu retirei 1 foforos! Sobram 11 fósforos!\n",
      "Sobram 7 fósforos.\n",
      "Eu retirei 1 foforos! Sobram 6 fósforos!\n",
      "Sobram 2 fósforos.\n",
      "Eu retirei 1 foforos! Sobram 1 fósforos!\n",
      "Ganhei!Ficaste com o último fósforo!\n"
     ]
    }
   ],
   "source": [
    "import random\n",
    "\n",
    "print(\"Olá! Bem vindo ao jogo dos fósforos!\")\n",
    "print(\"Antes de começar o jogo precisas de saber as regras!\")\n",
    "print(\"Regras do Jogo:\")\n",
    "print(\"Inicialmente existem 21 fósforos. Cada um deve retirar 1, 2, 3 ou 4 fósforos por jogada. Quem retirar o último fósforo perde o jogo!\")\n",
    "total_fosforos=21\n",
    "resposta=input(\"Se quiseres ser o primeiro digita 1 se quiseres ser o segundo digita 2.\")\n",
    "if resposta==\"1\":\n",
    "    while total_fosforos>1:\n",
    "        print(\"O nº de fosforos restantes é\", total_fosforos,\"!\")\n",
    "        n=int(input(\"Quantos fósforos queres retirar?\"))\n",
    "        if n<1 or n>4 or n>total_fosforos:\n",
    "            print(\"Não podes tirar esse valor.Tem de ser entre 1 e 4, sem ultrapassar o total restante.\")\n",
    "        else:\n",
    "            total_fosforos=total_fosforos-n\n",
    "            print(f\"Resta(m) {total_fosforos} fósforo(s).\")\n",
    "            numero_computador=5-n\n",
    "            total_fosforos=total_fosforos-numero_computador\n",
    "            print(f\"Eu tiro {numero_computador} fósforo(s)! Sobra(m) {total_fosforos}!\")\n",
    "    print(\"Perdeste! Tiraste o último fósforo!\")\n",
    "elif resposta==\"2\": \n",
    "    while total_fosforos>1:\n",
    "        jogada_estrategica=(total_fosforos-1)%5\n",
    "        if jogada_estrategica==0:\n",
    "            numero_computador= random.randint(1, min(4, total_fosforos - 1))\n",
    "        else:\n",
    "            numero_computador=jogada_estrategica\n",
    "        \n",
    "        total_fosforos=total_fosforos-numero_computador\n",
    "        print(f\"Eu retirei {numero_computador} foforos! Sobram {total_fosforos} fósforos!\")\n",
    "        if total_fosforos == 1:\n",
    "            print(\"Ganhei!Ficaste com o último fósforo!\")\n",
    "            break\n",
    "        jogada_válida=False\n",
    "        while not jogada_válida:\n",
    "            n1 = int(input(\"Quantos fósforos queres tirar? \"))\n",
    "            if n1 < 1 or n1 > 4 or n1 > total_fosforos:\n",
    "                print(\"Não podes tirar esse valor. Tem de ser entre 1 e 4, sem ultrapassar o total restante.\")\n",
    "                jogada_válida=False\n",
    "            else:\n",
    "                jogada_válida=True\n",
    "        total_fosforos = total_fosforos- n1\n",
    "        print(f\"Sobram {total_fosforos} fósforos.\")\n",
    "        if total_fosforos == 1:\n",
    "            print(\"Ganhou! Eu fiquei com o último fósforo.\")\n",
    "            break\n",
    "else:\n",
    "    print (\"Erro! Não escolheste ser o 1º ou 2º!\")\n"
   ]
  }
 ],
 "metadata": {
  "kernelspec": {
   "display_name": "Python 3",
   "language": "python",
   "name": "python3"
  },
  "language_info": {
   "codemirror_mode": {
    "name": "ipython",
    "version": 3
   },
   "file_extension": ".py",
   "mimetype": "text/x-python",
   "name": "python",
   "nbconvert_exporter": "python",
   "pygments_lexer": "ipython3",
   "version": "3.13.7"
  }
 },
 "nbformat": 4,
 "nbformat_minor": 5
}
